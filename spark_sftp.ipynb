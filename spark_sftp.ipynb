{
 "cells": [
  {
   "cell_type": "code",
   "execution_count": 7,
   "metadata": {},
   "outputs": [],
   "source": [
    "from paramiko import Transport, SFTPClient\n",
    "# from pyspark.sql import SparkSession\n"
   ]
  },
  {
   "cell_type": "code",
   "execution_count": 2,
   "metadata": {},
   "outputs": [],
   "source": [
    "from dotenv import load_dotenv\n",
    "import os\n",
    "\n",
    "load_dotenv()\n",
    "\n",
    "sftp_host = os.getenv('sftp_host')\n",
    "sftp_username = os.getenv('sftp_username')\n",
    "sftp_password = os.getenv('sftp_password')\n"
   ]
  },
  {
   "cell_type": "code",
   "execution_count": 16,
   "metadata": {},
   "outputs": [
    {
     "name": "stdout",
     "output_type": "stream",
     "text": [
      "Files in Data:\n",
      "Failed to list files: [Errno 2] No such file\n"
     ]
    }
   ],
   "source": [
    "try:\n",
    "    transport = Transport((sftp_host, 22))\n",
    "    transport.connect(username=sftp_username, password=sftp_password)\n",
    "\n",
    "    sftp = SFTPClient.from_transport(transport)\n",
    "    files = sftp.listdir('D:\\Data')\n",
    "    print(f\"Files in Data:\")\n",
    "    for file in files:\n",
    "        sftp.get(file, file)\n",
    "    sftp.close()\n",
    "    transport.close()\n",
    "except Exception as e:\n",
    "    print(f\"Failed to list files: {e}\")"
   ]
  }
 ],
 "metadata": {
  "kernelspec": {
   "display_name": "base",
   "language": "python",
   "name": "python3"
  },
  "language_info": {
   "codemirror_mode": {
    "name": "ipython",
    "version": 3
   },
   "file_extension": ".py",
   "mimetype": "text/x-python",
   "name": "python",
   "nbconvert_exporter": "python",
   "pygments_lexer": "ipython3",
   "version": "3.11.5"
  }
 },
 "nbformat": 4,
 "nbformat_minor": 2
}
