{
 "cells": [
  {
   "cell_type": "code",
   "execution_count": 1,
   "metadata": {},
   "outputs": [
    {
     "name": "stderr",
     "output_type": "stream",
     "text": [
      "d:\\conda\\Lib\\site-packages\\paramiko\\transport.py:219: CryptographyDeprecationWarning: Blowfish has been deprecated\n",
      "  \"class\": algorithms.Blowfish,\n"
     ]
    }
   ],
   "source": [
    "import paramiko\n",
    "import os\n",
    "\n",
    "# Define SFTP server details\n",
    "hostname = os.getenv('sftp_host')\n",
    "port = 22\n",
    "username = os.getenv('sftp_username')\n",
    "password = os.getenv('sftp_password')\n",
    "remote_folder = 'D:/Data'\n",
    "local_folder = 'Data'\n"
   ]
  },
  {
   "cell_type": "code",
   "execution_count": 2,
   "metadata": {},
   "outputs": [],
   "source": [
    "# Create local folder if it doesn't exist\n",
    "if not os.path.exists(local_folder):\n",
    "    os.makedirs(local_folder)\n",
    "\n",
    "try:\n",
    "    # Create SSH client\n",
    "    ssh = paramiko.SSHClient()\n",
    "    ssh.set_missing_host_key_policy(paramiko.AutoAddPolicy())\n",
    "    ssh.connect(hostname, port, username, password)\n",
    "    \n",
    "    # Create SFTP session\n",
    "    sftp = ssh.open_sftp()\n",
    "    \n",
    "    # List files in the remote directory\n",
    "    files = sftp.listdir(remote_folder)\n",
    "    \n",
    "    for file in files:\n",
    "        remote_file_path = os.path.join(remote_folder, file)\n",
    "        local_file_path = os.path.join(local_folder, file)\n",
    "        \n",
    "        # Download each file\n",
    "        sftp.get(remote_file_path, local_file_path)\n",
    "        print(f\"Downloaded {file} to {local_file_path}\")\n",
    "    \n",
    "    sftp.close()\n",
    "    ssh.close()\n",
    "    \n",
    "except Exception as e:\n",
    "    print(f\"An error occurred: {e}\")"
   ]
  }
 ],
 "metadata": {
  "kernelspec": {
   "display_name": "base",
   "language": "python",
   "name": "python3"
  },
  "language_info": {
   "codemirror_mode": {
    "name": "ipython",
    "version": 3
   },
   "file_extension": ".py",
   "mimetype": "text/x-python",
   "name": "python",
   "nbconvert_exporter": "python",
   "pygments_lexer": "ipython3",
   "version": "3.11.5"
  }
 },
 "nbformat": 4,
 "nbformat_minor": 2
}
