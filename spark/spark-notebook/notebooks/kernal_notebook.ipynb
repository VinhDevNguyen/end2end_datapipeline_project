{
 "cells": [
  {
   "cell_type": "code",
   "execution_count": 1,
   "id": "8875ca3b-886b-4f25-bc21-c4aa89a88821",
   "metadata": {},
   "outputs": [
    {
     "name": "stdout",
     "output_type": "stream",
     "text": [
      "Collecting findspark\n",
      "  Downloading findspark-2.0.1-py2.py3-none-any.whl.metadata (352 bytes)\n",
      "Downloading findspark-2.0.1-py2.py3-none-any.whl (4.4 kB)\n",
      "Installing collected packages: findspark\n",
      "Successfully installed findspark-2.0.1\n"
     ]
    }
   ],
   "source": [
    "!pip install findspark"
   ]
  },
  {
   "cell_type": "code",
   "execution_count": 2,
   "id": "a4e164b9-a0a3-4cf7-a136-42dc3fe356eb",
   "metadata": {},
   "outputs": [],
   "source": [
    "import os\n",
    "import findspark"
   ]
  },
  {
   "cell_type": "code",
   "execution_count": 3,
   "id": "1abe650c-d5ba-4464-a29c-ac12bc502760",
   "metadata": {},
   "outputs": [],
   "source": [
    "findspark.init()"
   ]
  },
  {
   "cell_type": "code",
   "execution_count": 4,
   "id": "427769cd-1f75-45d3-837a-331c1915c8bd",
   "metadata": {},
   "outputs": [],
   "source": [
    "from pyspark.sql import SparkSession\n",
    "# Initialize SparkSession\n",
    "\n",
    "spark = SparkSession.builder \\\n",
    "    .appName(\"Hello1234\") \\\n",
    "    .master(\"spark://spark-master:7077\") \\\n",
    "    .getOrCreate()"
   ]
  },
  {
   "cell_type": "code",
   "execution_count": 19,
   "id": "cd8d5111-be53-4a41-98b0-f5c0e9ed4b22",
   "metadata": {},
   "outputs": [],
   "source": [
    "spark.stop()"
   ]
  },
  {
   "cell_type": "code",
   "execution_count": 9,
   "id": "60052c6b-1c78-4cd9-b2de-5373bbb36588",
   "metadata": {},
   "outputs": [],
   "source": [
    "# Subscribe to 1 topic\n",
    "kafka_df = spark \\\n",
    "  .readStream \\\n",
    "  .format(\"kafka\") \\\n",
    "  .option(\"kafka.bootstrap.servers\", \"kafka-broker-0:9092,kafka-broker-1:9092\") \\\n",
    "  .option(\"subscribe\", \"test\") \\\n",
    "  .option(\"startingOffsets\", \"earliest\") \\\n",
    "  .load()\n"
   ]
  },
  {
   "cell_type": "code",
   "execution_count": 16,
   "id": "094d05cf-425f-4150-ba8a-a8fad42c331d",
   "metadata": {},
   "outputs": [],
   "source": [
    "from pyspark.sql.functions import col, from_json"
   ]
  },
  {
   "cell_type": "code",
   "execution_count": 17,
   "id": "7b8c6700-9627-416b-bcf0-a92abd97eb9e",
   "metadata": {},
   "outputs": [],
   "source": [
    "# Cast key and value columns to string\n",
    "kafka_df = kafka_df \\\n",
    "    .withColumn(\"key\", col(\"key\").cast(\"string\")) \\\n",
    "    .withColumn(\"value\", col(\"value\").cast(\"string\"))\n"
   ]
  },
  {
   "cell_type": "code",
   "execution_count": 31,
   "id": "d62d0b3d-c697-4c53-b324-7323d7f05084",
   "metadata": {},
   "outputs": [],
   "source": [
    "query = kafka_df \\\n",
    "    .writeStream \\\n",
    "    .outputMode(\"update\") \\\n",
    "    .format(\"memory\") \\\n",
    "    .queryName(\"mem_results\") \\\n",
    "    .start()"
   ]
  },
  {
   "cell_type": "code",
   "execution_count": 35,
   "id": "0286be97-77cc-4341-979b-8ea1089b33b6",
   "metadata": {},
   "outputs": [
    {
     "name": "stdout",
     "output_type": "stream",
     "text": [
      "+---------+-----------+-----------+\n",
      "|namespace|  tableName|isTemporary|\n",
      "+---------+-----------+-----------+\n",
      "|         |mem_results|      false|\n",
      "+---------+-----------+-----------+\n",
      "\n"
     ]
    }
   ],
   "source": [
    "spark.sql('show tables').show()"
   ]
  },
  {
   "cell_type": "code",
   "execution_count": 36,
   "id": "4794cfbf-e0b1-4f36-84da-a08c8e8c6f58",
   "metadata": {},
   "outputs": [
    {
     "name": "stdout",
     "output_type": "stream",
     "text": [
      "+------+------+-----+---------+------+--------------------+-------------+\n",
      "|   key| value|topic|partition|offset|           timestamp|timestampType|\n",
      "+------+------+-----+---------+------+--------------------+-------------+\n",
      "|     a|     b| test|        0|     0|2024-07-15 04:52:...|            0|\n",
      "|   abc|    dc| test|        0|     1|2024-07-15 04:54:...|            0|\n",
      "|qweqwe|qweqwe| test|        0|     2|2024-07-15 04:58:...|            0|\n",
      "+------+------+-----+---------+------+--------------------+-------------+\n",
      "\n"
     ]
    }
   ],
   "source": [
    "spark.sql('select * from mem_results').show()"
   ]
  },
  {
   "cell_type": "code",
   "execution_count": null,
   "id": "f1612ea3-55ef-415b-a53b-a9ff7c907ddc",
   "metadata": {},
   "outputs": [],
   "source": []
  }
 ],
 "metadata": {
  "kernelspec": {
   "display_name": "Python 3 (ipykernel)",
   "language": "python",
   "name": "python3"
  },
  "language_info": {
   "codemirror_mode": {
    "name": "ipython",
    "version": 3
   },
   "file_extension": ".py",
   "mimetype": "text/x-python",
   "name": "python",
   "nbconvert_exporter": "python",
   "pygments_lexer": "ipython3",
   "version": "3.11.6"
  }
 },
 "nbformat": 4,
 "nbformat_minor": 5
}
