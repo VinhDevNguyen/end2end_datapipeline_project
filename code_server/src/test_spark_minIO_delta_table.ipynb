{
 "cells": [
  {
   "cell_type": "code",
   "execution_count": 13,
   "metadata": {},
   "outputs": [
    {
     "name": "stdout",
     "output_type": "stream",
     "text": [
      "3.11.9 (main, Apr  6 2024, 17:59:24) [GCC 11.4.0]\n"
     ]
    }
   ],
   "source": [
    "import sys\n",
    "print(sys.version)\n"
   ]
  },
  {
   "cell_type": "code",
   "execution_count": 14,
   "metadata": {},
   "outputs": [],
   "source": [
    "# Define the packages to include\n",
    "\n",
    "# For delta compatibility with spark, check https://docs.delta.io/latest/releases.html\n",
    "packages = [\n",
    "    \"org.apache.hadoop:hadoop-aws:3.3.4\",  # Hadoop-AWS package,\n",
    "    \"io.delta:delta-spark_2.12:3.2.0\" # Delta package\n",
    "]"
   ]
  },
  {
   "cell_type": "code",
   "execution_count": 15,
   "metadata": {},
   "outputs": [],
   "source": [
    "# MinIO credentials\n",
    "minio_endpoint = \"http://minio:9000\"\n",
    "minio_access_key = \"ouxhmt4Ez73Rt8HSNQFu\"\n",
    "minio_secret_key = \"nkEwOH7TsENA7hRSkH0VSRMqdNq65ystE2BODdHW\""
   ]
  },
  {
   "cell_type": "code",
   "execution_count": 17,
   "metadata": {},
   "outputs": [],
   "source": [
    "from pyspark import SparkConf\n",
    "conf = (\n",
    "            SparkConf()\n",
    "            .setAppName(\"minIOTest\")\n",
    "            .set(\"spark.jars.packages\", \",\".join(packages))\n",
    "            .set(\"spark.sql.extensions\", \"io.delta.sql.DeltaSparkSessionExtension\") \n",
    "            .set(\"spark.sql.catalog.spark_catalog\", \"org.apache.spark.sql.delta.catalog.DeltaCatalog\") \n",
    "            .set(\"spark.hadoop.fs.s3a.access.key\", minio_access_key)\n",
    "            .set(\"spark.hadoop.fs.s3a.secret.key\", minio_secret_key)\n",
    "            .set(\"spark.hadoop.fs.s3a.endpoint\", minio_endpoint)\n",
    "            .set(\"spark.hadoop.fs.s3a.connection.ssl.enabled\", \"true\")\n",
    "            .set(\"spark.hadoop.fs.s3a.path.style.access\", \"true\")\n",
    "            .set(\"spark.hadoop.fs.s3a.impl\", \"org.apache.hadoop.fs.s3a.S3AFileSystem\")\n",
    "            .set(\"spark.hadoop.fs.s3a.aws.credentials.provider\", \"org.apache.hadoop.fs.s3a.SimpleAWSCredentialsProvider\")\n",
    "            .set(\"spark.hadoop.fs.s3a.attempts.maximum\", \"1\")\n",
    "            .set(\"spark.hadoop.fs.s3a.connection.establish.timeout\", \"5000\")\n",
    "            .set(\"spark.hadoop.fs.s3a.connection.timeout\", \"10000\")\n",
    "        )"
   ]
  },
  {
   "cell_type": "code",
   "execution_count": 18,
   "metadata": {},
   "outputs": [],
   "source": [
    "from pyspark.sql import SparkSession\n",
    "# Initialize SparkSession\n",
    "\n",
    "spark =SparkSession.builder.config(conf=conf).master(\"spark://spark-master:7077\").getOrCreate()"
   ]
  },
  {
   "cell_type": "code",
   "execution_count": 19,
   "metadata": {},
   "outputs": [
    {
     "name": "stderr",
     "output_type": "stream",
     "text": [
      "                                                                                \r"
     ]
    },
    {
     "name": "stdout",
     "output_type": "stream",
     "text": [
      "+---------+--------------+\n",
      "|countryid|       country|\n",
      "+---------+--------------+\n",
      "|        1|     Argentina|\n",
      "|        2|     Australia|\n",
      "|        3|       Austria|\n",
      "|        4|    Azerbaijan|\n",
      "|        5|       Belgium|\n",
      "|        6|        Brazil|\n",
      "|        7|      Bulgaria|\n",
      "|        8|        Canada|\n",
      "|        9|        Cyprus|\n",
      "|       10|Czech Republic|\n",
      "|       11|       Denmark|\n",
      "|       12|         Egypt|\n",
      "|       13|       Estonia|\n",
      "|       14|       Finland|\n",
      "|       15|        France|\n",
      "|       16|       Germany|\n",
      "|       17|        Greece|\n",
      "|       18|       Hungary|\n",
      "|       19|         India|\n",
      "|       20|     Indonesia|\n",
      "+---------+--------------+\n",
      "only showing top 20 rows\n",
      "\n"
     ]
    }
   ],
   "source": [
    "df = spark.read.option(\"header\", \"true\") \\\n",
    "    .csv(f\"s3a://test2/DimCountry.csv\")\n",
    "# show data\n",
    "df.show()"
   ]
  },
  {
   "cell_type": "code",
   "execution_count": 20,
   "metadata": {},
   "outputs": [
    {
     "name": "stderr",
     "output_type": "stream",
     "text": [
      "24/07/16 05:08:45 WARN SparkStringUtils: Truncated the string representation of a plan since it was too large. This behavior can be adjusted by setting 'spark.sql.debug.maxToStringFields'.\n",
      "                                                                                \r"
     ]
    }
   ],
   "source": [
    "# Write DataFrame to Delta table in MinIO with overwrite mode\n",
    "df.write.format(\"delta\").mode(\"overwrite\").save(\"s3a://test2/DimCountry2\")"
   ]
  },
  {
   "cell_type": "code",
   "execution_count": 22,
   "metadata": {},
   "outputs": [
    {
     "name": "stderr",
     "output_type": "stream",
     "text": [
      "                                                                                \r"
     ]
    },
    {
     "name": "stdout",
     "output_type": "stream",
     "text": [
      "+---------+--------------+\n",
      "|countryid|       country|\n",
      "+---------+--------------+\n",
      "|        1|     Argentina|\n",
      "|        2|     Australia|\n",
      "|        3|       Austria|\n",
      "|        4|    Azerbaijan|\n",
      "|        5|       Belgium|\n",
      "|        6|        Brazil|\n",
      "|        7|      Bulgaria|\n",
      "|        8|        Canada|\n",
      "|        9|        Cyprus|\n",
      "|       10|Czech Republic|\n",
      "|       11|       Denmark|\n",
      "|       12|         Egypt|\n",
      "|       13|       Estonia|\n",
      "|       14|       Finland|\n",
      "|       15|        France|\n",
      "|       16|       Germany|\n",
      "|       17|        Greece|\n",
      "|       18|       Hungary|\n",
      "|       19|         India|\n",
      "|       20|     Indonesia|\n",
      "+---------+--------------+\n",
      "only showing top 20 rows\n",
      "\n"
     ]
    }
   ],
   "source": [
    "# Read Delta table from MinIO\n",
    "df_delta = spark.read.format(\"delta\").load(\"s3a://test2/DimCountry2\")\n",
    "\n",
    "# Show the data\n",
    "df_delta.show()"
   ]
  },
  {
   "cell_type": "code",
   "execution_count": 23,
   "metadata": {},
   "outputs": [],
   "source": [
    "spark.stop()"
   ]
  }
 ],
 "metadata": {
  "kernelspec": {
   "display_name": "Python 3",
   "language": "python",
   "name": "python3"
  },
  "language_info": {
   "codemirror_mode": {
    "name": "ipython",
    "version": 3
   },
   "file_extension": ".py",
   "mimetype": "text/x-python",
   "name": "python",
   "nbconvert_exporter": "python",
   "pygments_lexer": "ipython3",
   "version": "3.11.9"
  }
 },
 "nbformat": 4,
 "nbformat_minor": 2
}
