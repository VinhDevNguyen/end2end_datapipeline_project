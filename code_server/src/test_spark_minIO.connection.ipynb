{
 "cells": [
  {
   "cell_type": "code",
   "execution_count": 1,
   "metadata": {},
   "outputs": [
    {
     "name": "stdout",
     "output_type": "stream",
     "text": [
      "3.11.9 (main, Apr  6 2024, 17:59:24) [GCC 11.4.0]\n"
     ]
    }
   ],
   "source": [
    "import sys\n",
    "print(sys.version)\n"
   ]
  },
  {
   "cell_type": "code",
   "execution_count": 2,
   "metadata": {},
   "outputs": [],
   "source": [
    "# Define the packages to include\n",
    "packages = [\n",
    "    \"org.apache.hadoop:hadoop-aws:3.3.4\",  # Hadoop-AWS package,\n",
    "]"
   ]
  },
  {
   "cell_type": "code",
   "execution_count": 3,
   "metadata": {},
   "outputs": [],
   "source": [
    "# MinIO credentials\n",
    "minio_endpoint = \"http://minio:9000\"\n",
    "minio_access_key = \"ouxhmt4Ez73Rt8HSNQFu\"\n",
    "minio_secret_key = \"nkEwOH7TsENA7hRSkH0VSRMqdNq65ystE2BODdHW\""
   ]
  },
  {
   "cell_type": "code",
   "execution_count": 4,
   "metadata": {},
   "outputs": [],
   "source": [
    "from pyspark import SparkConf\n",
    "conf = (\n",
    "            SparkConf()\n",
    "            .setAppName(\"minIOTest\")\n",
    "            .set(\"spark.jars.packages\", \",\".join(packages))\n",
    "            .set(\"spark.hadoop.fs.s3a.access.key\", minio_access_key)\n",
    "            .set(\"spark.hadoop.fs.s3a.secret.key\", minio_secret_key)\n",
    "            .set(\"spark.hadoop.fs.s3a.endpoint\", minio_endpoint)\n",
    "            .set(\"spark.hadoop.fs.s3a.connection.ssl.enabled\", \"true\")\n",
    "            .set(\"spark.hadoop.fs.s3a.path.style.access\", \"true\")\n",
    "            .set(\"spark.hadoop.fs.s3a.impl\", \"org.apache.hadoop.fs.s3a.S3AFileSystem\")\n",
    "            .set(\"spark.hadoop.fs.s3a.aws.credentials.provider\", \"org.apache.hadoop.fs.s3a.SimpleAWSCredentialsProvider\")\n",
    "            .set(\"spark.hadoop.fs.s3a.attempts.maximum\", \"1\")\n",
    "            .set(\"spark.hadoop.fs.s3a.connection.establish.timeout\", \"5000\")\n",
    "            .set(\"spark.hadoop.fs.s3a.connection.timeout\", \"10000\")\n",
    "        )"
   ]
  },
  {
   "cell_type": "code",
   "execution_count": 7,
   "metadata": {},
   "outputs": [
    {
     "name": "stdout",
     "output_type": "stream",
     "text": [
      ":: loading settings :: url = jar:file:/usr/local/lib/python3.11/dist-packages/pyspark/jars/ivy-2.5.1.jar!/org/apache/ivy/core/settings/ivysettings.xml\n"
     ]
    },
    {
     "name": "stderr",
     "output_type": "stream",
     "text": [
      "Ivy Default Cache set to: /config/.ivy2/cache\n",
      "The jars for the packages stored in: /config/.ivy2/jars\n",
      "org.apache.hadoop#hadoop-aws added as a dependency\n",
      ":: resolving dependencies :: org.apache.spark#spark-submit-parent-28a3b313-02d4-4cbf-9136-df40a53d3082;1.0\n",
      "\tconfs: [default]\n",
      "\tfound org.apache.hadoop#hadoop-aws;3.3.4 in central\n",
      "\tfound com.amazonaws#aws-java-sdk-bundle;1.12.262 in central\n",
      "\tfound org.wildfly.openssl#wildfly-openssl;1.0.7.Final in central\n",
      "downloading https://repo1.maven.org/maven2/com/amazonaws/aws-java-sdk-bundle/1.12.262/aws-java-sdk-bundle-1.12.262.jar ...\n",
      "\t[SUCCESSFUL ] com.amazonaws#aws-java-sdk-bundle;1.12.262!aws-java-sdk-bundle.jar (168294ms)\n",
      "downloading https://repo1.maven.org/maven2/org/wildfly/openssl/wildfly-openssl/1.0.7.Final/wildfly-openssl-1.0.7.Final.jar ...\n",
      "\t[SUCCESSFUL ] org.wildfly.openssl#wildfly-openssl;1.0.7.Final!wildfly-openssl.jar (668ms)\n",
      ":: resolution report :: resolve 144ms :: artifacts dl 168970ms\n",
      "\t:: modules in use:\n",
      "\tcom.amazonaws#aws-java-sdk-bundle;1.12.262 from central in [default]\n",
      "\torg.apache.hadoop#hadoop-aws;3.3.4 from central in [default]\n",
      "\torg.wildfly.openssl#wildfly-openssl;1.0.7.Final from central in [default]\n",
      "\t---------------------------------------------------------------------\n",
      "\t|                  |            modules            ||   artifacts   |\n",
      "\t|       conf       | number| search|dwnlded|evicted|| number|dwnlded|\n",
      "\t---------------------------------------------------------------------\n",
      "\t|      default     |   3   |   0   |   0   |   0   ||   3   |   2   |\n",
      "\t---------------------------------------------------------------------\n",
      ":: retrieving :: org.apache.spark#spark-submit-parent-28a3b313-02d4-4cbf-9136-df40a53d3082\n",
      "\tconfs: [default]\n",
      "\t3 artifacts copied, 0 already retrieved (275421kB/414ms)\n",
      "24/07/16 04:17:06 WARN NativeCodeLoader: Unable to load native-hadoop library for your platform... using builtin-java classes where applicable\n",
      "Setting default log level to \"WARN\".\n",
      "To adjust logging level use sc.setLogLevel(newLevel). For SparkR, use setLogLevel(newLevel).\n"
     ]
    }
   ],
   "source": [
    "from pyspark.sql import SparkSession\n",
    "# Initialize SparkSession\n",
    "\n",
    "spark =SparkSession.builder.config(conf=conf).master(\"spark://spark-master:7077\").getOrCreate()"
   ]
  },
  {
   "cell_type": "code",
   "execution_count": 8,
   "metadata": {},
   "outputs": [
    {
     "name": "stderr",
     "output_type": "stream",
     "text": [
      "24/07/16 04:17:15 WARN MetricsConfig: Cannot locate configuration: tried hadoop-metrics2-s3a-file-system.properties,hadoop-metrics2.properties\n",
      "                                                                                \r"
     ]
    },
    {
     "name": "stdout",
     "output_type": "stream",
     "text": [
      "+---------+--------------+\n",
      "|countryid|       country|\n",
      "+---------+--------------+\n",
      "|        1|     Argentina|\n",
      "|        2|     Australia|\n",
      "|        3|       Austria|\n",
      "|        4|    Azerbaijan|\n",
      "|        5|       Belgium|\n",
      "|        6|        Brazil|\n",
      "|        7|      Bulgaria|\n",
      "|        8|        Canada|\n",
      "|        9|        Cyprus|\n",
      "|       10|Czech Republic|\n",
      "|       11|       Denmark|\n",
      "|       12|         Egypt|\n",
      "|       13|       Estonia|\n",
      "|       14|       Finland|\n",
      "|       15|        France|\n",
      "|       16|       Germany|\n",
      "|       17|        Greece|\n",
      "|       18|       Hungary|\n",
      "|       19|         India|\n",
      "|       20|     Indonesia|\n",
      "+---------+--------------+\n",
      "only showing top 20 rows\n",
      "\n"
     ]
    }
   ],
   "source": [
    "df = spark.read.option(\"header\", \"true\") \\\n",
    "    .csv(f\"s3a://test2/DimCountry.csv\")\n",
    "# show data\n",
    "df.show()"
   ]
  },
  {
   "cell_type": "code",
   "execution_count": 16,
   "metadata": {},
   "outputs": [
    {
     "name": "stderr",
     "output_type": "stream",
     "text": [
      "24/07/16 04:25:43 WARN AbstractS3ACommitterFactory: Using standard FileOutputCommitter to commit work. This is slow and potentially unsafe.\n"
     ]
    }
   ],
   "source": [
    "# Write DataFrame to MinIO\n",
    "df.write.mode(\"overwrite\").csv(\"s3a://test2/DimCountry2.csv\")"
   ]
  },
  {
   "cell_type": "code",
   "execution_count": 17,
   "metadata": {},
   "outputs": [],
   "source": [
    "spark.stop()"
   ]
  }
 ],
 "metadata": {
  "kernelspec": {
   "display_name": "Python 3",
   "language": "python",
   "name": "python3"
  },
  "language_info": {
   "codemirror_mode": {
    "name": "ipython",
    "version": 3
   },
   "file_extension": ".py",
   "mimetype": "text/x-python",
   "name": "python",
   "nbconvert_exporter": "python",
   "pygments_lexer": "ipython3",
   "version": "3.11.9"
  }
 },
 "nbformat": 4,
 "nbformat_minor": 2
}
